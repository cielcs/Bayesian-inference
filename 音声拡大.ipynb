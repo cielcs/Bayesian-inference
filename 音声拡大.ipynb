{
  "nbformat": 4,
  "nbformat_minor": 0,
  "metadata": {
    "colab": {
      "provenance": [],
      "authorship_tag": "ABX9TyOZEi12AJMoNcCH9sf2hzR8",
      "include_colab_link": true
    },
    "kernelspec": {
      "name": "python3",
      "display_name": "Python 3"
    },
    "language_info": {
      "name": "python"
    }
  },
  "cells": [
    {
      "cell_type": "markdown",
      "metadata": {
        "id": "view-in-github",
        "colab_type": "text"
      },
      "source": [
        "<a href=\"https://colab.research.google.com/github/cielcs/Bayesian-inference/blob/main/%E9%9F%B3%E5%A3%B0%E6%8B%A1%E5%A4%A7.ipynb\" target=\"_parent\"><img src=\"https://colab.research.google.com/assets/colab-badge.svg\" alt=\"Open In Colab\"/></a>"
      ]
    },
    {
      "cell_type": "code",
      "source": [
        "from google.colab import drive\n",
        "drive.mount('/content/drive')"
      ],
      "metadata": {
        "colab": {
          "base_uri": "https://localhost:8080/"
        },
        "id": "kD8R_AzZioos",
        "outputId": "8abe0ae5-b117-4ce7-ae31-71a57df8af05"
      },
      "execution_count": null,
      "outputs": [
        {
          "output_type": "stream",
          "name": "stdout",
          "text": [
            "Mounted at /content/drive\n"
          ]
        }
      ]
    },
    {
      "cell_type": "code",
      "source": [
        "!pip install pydub\n",
        "!pip install ffmpeg\n"
      ],
      "metadata": {
        "colab": {
          "base_uri": "https://localhost:8080/"
        },
        "id": "44EHMMmKiRsf",
        "outputId": "a796fe51-a587-4807-a54f-fa5c6381ea4b"
      },
      "execution_count": null,
      "outputs": [
        {
          "output_type": "stream",
          "name": "stdout",
          "text": [
            "Collecting pydub\n",
            "  Downloading pydub-0.25.1-py2.py3-none-any.whl (32 kB)\n",
            "Installing collected packages: pydub\n",
            "Successfully installed pydub-0.25.1\n",
            "Collecting ffmpeg\n",
            "  Downloading ffmpeg-1.4.tar.gz (5.1 kB)\n",
            "  Preparing metadata (setup.py) ... \u001b[?25l\u001b[?25hdone\n",
            "Building wheels for collected packages: ffmpeg\n",
            "  Building wheel for ffmpeg (setup.py) ... \u001b[?25l\u001b[?25hdone\n",
            "  Created wheel for ffmpeg: filename=ffmpeg-1.4-py3-none-any.whl size=6082 sha256=1f946fd2d937698c17f55848ba92ce5e07f06fed9ff8e2ca50107aaec5a3732a\n",
            "  Stored in directory: /root/.cache/pip/wheels/8e/7a/69/cd6aeb83b126a7f04cbe7c9d929028dc52a6e7d525ff56003a\n",
            "Successfully built ffmpeg\n",
            "Installing collected packages: ffmpeg\n",
            "Successfully installed ffmpeg-1.4\n"
          ]
        }
      ]
    },
    {
      "cell_type": "code",
      "execution_count": null,
      "metadata": {
        "colab": {
          "base_uri": "https://localhost:8080/"
        },
        "id": "pK2v1j2_hO5i",
        "outputId": "19457533-f414-4b5d-cfbe-fb6cc9445075"
      },
      "outputs": [
        {
          "output_type": "stream",
          "name": "stdout",
          "text": [
            "音量を増幅したファイルが保存されました: /content/drive/MyDrive/naist/edit_sound/louder_6_6_2123.wav\n"
          ]
        }
      ],
      "source": [
        "from pydub import AudioSegment\n",
        "from google.colab import files\n",
        "\n",
        "# 音声ファイルのパスを指定\n",
        "sound_path = '/content/drive/MyDrive/naist/Bsound/6_6_2123.wav'\n",
        "\n",
        "# AudioSegmentを使って音声ファイルを読み込む\n",
        "audio = AudioSegment.from_wav(sound_path)\n",
        "\n",
        "# 音量を増幅する（10dB上げる例）\n",
        "louder_audio = audio + 50\n",
        "\n",
        "# 新しいファイル名を指定して保存\n",
        "output_file_name = '/content/drive/MyDrive/naist/edit_sound/louder_6_6_2123.wav'\n",
        "# output_file_name = '/content/a.wav'\n",
        "louder_audio.export(output_file_name, format=\"wav\")\n",
        "\n",
        "print(f\"音量を増幅したファイルが保存されました: {output_file_name}\")\n"
      ]
    }
  ]
}